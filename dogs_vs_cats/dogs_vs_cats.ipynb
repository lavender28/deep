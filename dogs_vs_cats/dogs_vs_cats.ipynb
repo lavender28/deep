{
 "cells": [
  {
   "cell_type": "code",
   "execution_count": 51,
   "metadata": {},
   "outputs": [],
   "source": [
    "from glob import glob\n",
    "from glob import iglob\n",
    "import os\n",
    "import time\n",
    "import numpy as np\n",
    "import pandas as pd\n",
    "import torch\n",
    "from torch.autograd import Variable\n",
    "from torch import nn\n",
    "from torch import optim\n",
    "from torchvision import transforms\n",
    "from torchvision import models\n",
    "from torchvision.datasets import ImageFolder\n",
    "import matplotlib.pyplot as plt"
   ]
  },
  {
   "cell_type": "code",
   "execution_count": 4,
   "metadata": {},
   "outputs": [],
   "source": [
    "path = 'D:\\\\PyTorch\\\\dogs_vs_cats\\\\data\\\\'\n",
    "files = glob(os.path.join(path, '*\\\\*.jpg'))"
   ]
  },
  {
   "cell_type": "code",
   "execution_count": 5,
   "metadata": {},
   "outputs": [
    {
     "name": "stdout",
     "output_type": "stream",
     "text": [
      "总图片数: 25000\n"
     ]
    }
   ],
   "source": [
    "print(\"总图片数: %s\" % len(files))"
   ]
  },
  {
   "cell_type": "code",
   "execution_count": 6,
   "metadata": {},
   "outputs": [],
   "source": [
    "no_of_images = len(files)\n",
    "np.random.seed(0)\n",
    "shuffle = np.random.permutation(no_of_images)"
   ]
  },
  {
   "cell_type": "code",
   "execution_count": 7,
   "metadata": {},
   "outputs": [
    {
     "data": {
      "text/plain": [
       "array([14149,  8946, 22378, ...,  9845, 10799,  2732])"
      ]
     },
     "execution_count": 7,
     "metadata": {},
     "output_type": "execute_result"
    }
   ],
   "source": [
    "shuffle"
   ]
  },
  {
   "cell_type": "code",
   "execution_count": 32,
   "metadata": {},
   "outputs": [],
   "source": [
    "for t in ['train', 'valid']:\n",
    "    for folder in ['dog\\\\', 'cat\\\\']:\n",
    "        os.mkdir(os.path.join(path, t, folder))"
   ]
  },
  {
   "cell_type": "code",
   "execution_count": 8,
   "metadata": {},
   "outputs": [],
   "source": [
    "for i in shuffle[:2000]:\n",
    "    folder = files[i].split('\\\\')[-1].split('.')[0]\n",
    "    image = files[i].split('\\\\')[-1]\n",
    "    os.rename(files[i], os.path.join(path, 'valid', folder, image))"
   ]
  },
  {
   "cell_type": "code",
   "execution_count": 9,
   "metadata": {},
   "outputs": [],
   "source": [
    "for i in shuffle[2000:]:\n",
    "    folder = files[i].split('\\\\')[-1].split('.')[0]\n",
    "    image = files[i].split('\\\\')[-1]\n",
    "    os.rename(files[i], os.path.join(path, 'train', folder, image))"
   ]
  },
  {
   "cell_type": "code",
   "execution_count": 10,
   "metadata": {},
   "outputs": [],
   "source": [
    "simple_transform = transforms.Compose([transforms.Resize((224, 224)),\n",
    "                                      transforms.ToTensor(),\n",
    "                                      transforms.Normalize([0.485, 0.456, 0.406],\n",
    "                                                          [0.229, 0.224, 0.225])])\n",
    "train = ImageFolder('D:\\\\PyTorch\\\\dogs_vs_cats\\\\data\\\\train', simple_transform)\n",
    "valid = ImageFolder('D:\\\\PyTorch\\\\dogs_vs_cats\\\\data\\\\valid', simple_transform)"
   ]
  },
  {
   "cell_type": "code",
   "execution_count": 11,
   "metadata": {},
   "outputs": [
    {
     "data": {
      "text/plain": [
       "{'cat': 0, 'dog': 1}"
      ]
     },
     "execution_count": 11,
     "metadata": {},
     "output_type": "execute_result"
    }
   ],
   "source": [
    "train.class_to_idx"
   ]
  },
  {
   "cell_type": "code",
   "execution_count": 12,
   "metadata": {},
   "outputs": [
    {
     "data": {
      "text/plain": [
       "['cat', 'dog']"
      ]
     },
     "execution_count": 12,
     "metadata": {},
     "output_type": "execute_result"
    }
   ],
   "source": [
    "train.classes"
   ]
  },
  {
   "cell_type": "code",
   "execution_count": 18,
   "metadata": {},
   "outputs": [
    {
     "name": "stdout",
     "output_type": "stream",
     "text": [
      "[('D:\\\\PyTorch\\\\dogs_vs_cats\\\\data\\\\train\\\\cat\\\\cat.0.jpg', 0), ('D:\\\\PyTorch\\\\dogs_vs_cats\\\\data\\\\train\\\\cat\\\\cat.1.jpg', 0), ('D:\\\\PyTorch\\\\dogs_vs_cats\\\\data\\\\train\\\\cat\\\\cat.10.jpg', 0), ('D:\\\\PyTorch\\\\dogs_vs_cats\\\\data\\\\train\\\\cat\\\\cat.100.jpg', 0), ('D:\\\\PyTorch\\\\dogs_vs_cats\\\\data\\\\train\\\\cat\\\\cat.1000.jpg', 0), ('D:\\\\PyTorch\\\\dogs_vs_cats\\\\data\\\\train\\\\cat\\\\cat.10000.jpg', 0), ('D:\\\\PyTorch\\\\dogs_vs_cats\\\\data\\\\train\\\\cat\\\\cat.10001.jpg', 0), ('D:\\\\PyTorch\\\\dogs_vs_cats\\\\data\\\\train\\\\cat\\\\cat.10002.jpg', 0), ('D:\\\\PyTorch\\\\dogs_vs_cats\\\\data\\\\train\\\\cat\\\\cat.10003.jpg', 0), ('D:\\\\PyTorch\\\\dogs_vs_cats\\\\data\\\\train\\\\cat\\\\cat.10004.jpg', 0)]\n",
      "[('D:\\\\PyTorch\\\\dogs_vs_cats\\\\data\\\\train\\\\dog\\\\dog.999.jpg', 1), ('D:\\\\PyTorch\\\\dogs_vs_cats\\\\data\\\\train\\\\dog\\\\dog.9990.jpg', 1), ('D:\\\\PyTorch\\\\dogs_vs_cats\\\\data\\\\train\\\\dog\\\\dog.9991.jpg', 1), ('D:\\\\PyTorch\\\\dogs_vs_cats\\\\data\\\\train\\\\dog\\\\dog.9992.jpg', 1), ('D:\\\\PyTorch\\\\dogs_vs_cats\\\\data\\\\train\\\\dog\\\\dog.9993.jpg', 1), ('D:\\\\PyTorch\\\\dogs_vs_cats\\\\data\\\\train\\\\dog\\\\dog.9994.jpg', 1), ('D:\\\\PyTorch\\\\dogs_vs_cats\\\\data\\\\train\\\\dog\\\\dog.9995.jpg', 1), ('D:\\\\PyTorch\\\\dogs_vs_cats\\\\data\\\\train\\\\dog\\\\dog.9996.jpg', 1), ('D:\\\\PyTorch\\\\dogs_vs_cats\\\\data\\\\train\\\\dog\\\\dog.9997.jpg', 1), ('D:\\\\PyTorch\\\\dogs_vs_cats\\\\data\\\\train\\\\dog\\\\dog.9998.jpg', 1)]\n"
     ]
    }
   ],
   "source": [
    "print(train.imgs[:10])\n",
    "print(train.imgs[-10:])"
   ]
  },
  {
   "cell_type": "code",
   "execution_count": 14,
   "metadata": {},
   "outputs": [
    {
     "data": {
      "text/plain": [
       "{'cat': 0, 'dog': 1}"
      ]
     },
     "execution_count": 14,
     "metadata": {},
     "output_type": "execute_result"
    }
   ],
   "source": [
    "valid.class_to_idx"
   ]
  },
  {
   "cell_type": "code",
   "execution_count": 15,
   "metadata": {},
   "outputs": [
    {
     "data": {
      "text/plain": [
       "['cat', 'dog']"
      ]
     },
     "execution_count": 15,
     "metadata": {},
     "output_type": "execute_result"
    }
   ],
   "source": [
    "valid.classes"
   ]
  },
  {
   "cell_type": "code",
   "execution_count": 23,
   "metadata": {},
   "outputs": [
    {
     "name": "stdout",
     "output_type": "stream",
     "text": [
      "--Return--\n",
      "> <ipython-input-23-bb3098cbea12>(2)<module>()->None\n",
      "-> pdb.set_trace()\n",
      "(Pdb) a\n",
      "(Pdb) a\n",
      "(Pdb) b 5\n",
      "Breakpoint 1 at <ipython-input-23-bb3098cbea12>:5\n",
      "(Pdb) b 8\n",
      "Breakpoint 2 at <ipython-input-23-bb3098cbea12>:8\n",
      "(Pdb) b\n",
      "Num Type         Disp Enb   Where\n",
      "1   breakpoint   keep yes   at <ipython-input-23-bb3098cbea12>:5\n",
      "2   breakpoint   keep yes   at <ipython-input-23-bb3098cbea12>:8\n",
      "(Pdb) n\n",
      "> d:\\anaconda\\anaconda\\lib\\site-packages\\ipython\\core\\interactiveshell.py(2964)run_code()\n",
      "-> sys.excepthook = old_excepthook\n",
      "(Pdb) c\n",
      "> <ipython-input-23-bb3098cbea12>(5)imshow()\n",
      "-> inp = inp.numpy().transpose((1, 2, 0))\n",
      "(Pdb) n\n",
      "> <ipython-input-23-bb3098cbea12>(6)imshow()\n",
      "-> mean = np.array([0.485, 0.456, 0.406])\n",
      "(Pdb) p inp\n",
      "array([[[-1.7754089 , -1.7030813 , -1.5430065 ],\n",
      "        [-1.7754089 , -1.7030813 , -1.5430065 ],\n",
      "        [-1.7754089 , -1.7030813 , -1.5430065 ],\n",
      "        ...,\n",
      "        [-1.8267832 , -1.7380952 , -1.5430065 ],\n",
      "        [-1.8267832 , -1.7380952 , -1.5430065 ],\n",
      "        [-1.8267832 , -1.7380952 , -1.5430065 ]],\n",
      "\n",
      "       [[-1.7754089 , -1.7030813 , -1.5430065 ],\n",
      "        [-1.7754089 , -1.7030813 , -1.5430065 ],\n",
      "        [-1.7754089 , -1.7030813 , -1.5430065 ],\n",
      "        ...,\n",
      "        [-1.8610327 , -1.7731092 , -1.5778649 ],\n",
      "        [-1.8610327 , -1.7731092 , -1.5778649 ],\n",
      "        [-1.8610327 , -1.7731092 , -1.5778649 ]],\n",
      "\n",
      "       [[-1.7754089 , -1.7030813 , -1.5430065 ],\n",
      "        [-1.7754089 , -1.7030813 , -1.5430065 ],\n",
      "        [-1.7754089 , -1.7030813 , -1.5430065 ],\n",
      "        ...,\n",
      "        [-1.8610327 , -1.7731092 , -1.5778649 ],\n",
      "        [-1.8610327 , -1.7731092 , -1.5778649 ],\n",
      "        [-1.8610327 , -1.7731092 , -1.5778649 ]],\n",
      "\n",
      "       ...,\n",
      "\n",
      "       [[-0.9876702 , -0.460084  ,  0.39163405],\n",
      "        [-1.0219197 , -0.512605  ,  0.3044881 ],\n",
      "        [-0.9705454 , -0.582633  ,  0.21734212],\n",
      "        ...,\n",
      "        [ 1.9577874 ,  2.0434172 ,  2.1519828 ],\n",
      "        [ 1.9064132 ,  1.9908963 ,  2.0996952 ],\n",
      "        [ 1.8721637 ,  1.9558823 ,  2.0648367 ]],\n",
      "\n",
      "       [[-1.0390445 , -0.512605  ,  0.3044881 ],\n",
      "        [-1.1246684 , -0.670168  ,  0.13019615],\n",
      "        [-0.9876702 , -0.65266097,  0.13019615],\n",
      "        ...,\n",
      "        [ 1.9577874 ,  2.0434172 ,  2.1519828 ],\n",
      "        [ 1.923538  ,  2.0084033 ,  2.1171243 ],\n",
      "        [ 1.8721637 ,  1.9558823 ,  2.0648367 ]],\n",
      "\n",
      "       [[-1.0219197 , -0.495098  ,  0.32191727],\n",
      "        [-0.95342064, -0.512605  ,  0.3044881 ],\n",
      "        [-0.37117907, -0.02240895,  0.74021804],\n",
      "        ...,\n",
      "        [ 1.9577874 ,  2.0434172 ,  2.169412  ],\n",
      "        [ 1.9406626 ,  2.0259104 ,  2.1345534 ],\n",
      "        [ 1.8892884 ,  1.9733893 ,  2.0822659 ]]], dtype=float32)\n",
      "(Pdb) c\n",
      "> <ipython-input-23-bb3098cbea12>(8)imshow()\n",
      "-> inp = std * inp + mean\n",
      "(Pdb) n\n",
      "> <ipython-input-23-bb3098cbea12>(9)imshow()\n",
      "-> inp = np.clip(inp, 0, 1)\n",
      "(Pdb) p inp\n",
      "array([[[0.07843137, 0.0745098 , 0.05882353],\n",
      "        [0.07843137, 0.0745098 , 0.05882353],\n",
      "        [0.07843137, 0.0745098 , 0.05882353],\n",
      "        ...,\n",
      "        [0.06666665, 0.06666668, 0.05882353],\n",
      "        [0.06666665, 0.06666668, 0.05882353],\n",
      "        [0.06666665, 0.06666668, 0.05882353]],\n",
      "\n",
      "       [[0.07843137, 0.0745098 , 0.05882353],\n",
      "        [0.07843137, 0.0745098 , 0.05882353],\n",
      "        [0.07843137, 0.0745098 , 0.05882353],\n",
      "        ...,\n",
      "        [0.05882351, 0.05882354, 0.0509804 ],\n",
      "        [0.05882351, 0.05882354, 0.0509804 ],\n",
      "        [0.05882351, 0.05882354, 0.0509804 ]],\n",
      "\n",
      "       [[0.07843137, 0.0745098 , 0.05882353],\n",
      "        [0.07843137, 0.0745098 , 0.05882353],\n",
      "        [0.07843137, 0.0745098 , 0.05882353],\n",
      "        ...,\n",
      "        [0.05882351, 0.05882354, 0.0509804 ],\n",
      "        [0.05882351, 0.05882354, 0.0509804 ],\n",
      "        [0.05882351, 0.05882354, 0.0509804 ]],\n",
      "\n",
      "       ...,\n",
      "\n",
      "       [[0.25882353, 0.35294119, 0.49411766],\n",
      "        [0.25098038, 0.34117648, 0.47450982],\n",
      "        [0.2627451 , 0.3254902 , 0.45490198],\n",
      "        ...,\n",
      "        [0.93333331, 0.91372546, 0.89019613],\n",
      "        [0.92156862, 0.90196078, 0.87843142],\n",
      "        [0.91372548, 0.89411764, 0.87058827]],\n",
      "\n",
      "       [[0.24705881, 0.34117648, 0.47450982],\n",
      "        [0.22745095, 0.30588237, 0.43529413],\n",
      "        [0.25882353, 0.30980394, 0.43529413],\n",
      "        ...,\n",
      "        [0.93333331, 0.91372546, 0.89019613],\n",
      "        [0.9254902 , 0.90588234, 0.88235297],\n",
      "        [0.91372548, 0.89411764, 0.87058827]],\n",
      "\n",
      "       [[0.25098038, 0.34509805, 0.47843138],\n",
      "        [0.26666667, 0.34117648, 0.47450982],\n",
      "        [0.39999999, 0.45098039, 0.57254906],\n",
      "        ...,\n",
      "        [0.93333331, 0.91372546, 0.89411768],\n",
      "        [0.92941174, 0.90980392, 0.88627452],\n",
      "        [0.91764705, 0.8980392 , 0.87450982]]])\n",
      "(Pdb) n\n",
      "> <ipython-input-23-bb3098cbea12>(10)imshow()\n",
      "-> plt.imshow(inp)\n",
      "(Pdb) n\n",
      "--Return--\n",
      "> <ipython-input-23-bb3098cbea12>(10)imshow()->None\n",
      "-> plt.imshow(inp)\n",
      "(Pdb) c\n"
     ]
    },
    {
     "data": {
      "image/png": "[encoded data removed]",
      "text/plain": [
       "<Figure size 432x288 with 1 Axes>"
      ]
     },
     "metadata": {
      "needs_background": "light"
     },
     "output_type": "display_data"
    }
   ],
   "source": [
    "import pdb\n",
    "pdb.set_trace()\n",
    "\n",
    "def imshow(inp):\n",
    "    inp = inp.numpy().transpose((1, 2, 0))   # 如此转置的原因？？？\n",
    "    mean = np.array([0.485, 0.456, 0.406])\n",
    "    std = np.array([0.229, 0.224, 0.225])\n",
    "    inp = std * inp + mean\n",
    "    inp = np.clip(inp, 0, 1)\n",
    "    plt.imshow(inp)\n",
    "    \n",
    "imshow(train[50][0])"
   ]
  },
  {
   "cell_type": "code",
   "execution_count": 25,
   "metadata": {},
   "outputs": [],
   "source": [
    "train_data_gen = torch.utils.data.DataLoader(train, batch_size=64, num_workers=3)\n",
    "valid_data_gen = torch.utils.data.DataLoader(valid, batch_size=64, num_workers=3)"
   ]
  },
  {
   "cell_type": "code",
   "execution_count": 59,
   "metadata": {},
   "outputs": [],
   "source": [
    "dataset_sizes = {'train':len(train_data_gen.dataset),'valid':len(valid_data_gen.dataset)}\n",
    "dataloaders = {'train':train_data_gen,'valid':valid_data_gen}"
   ]
  },
  {
   "cell_type": "code",
   "execution_count": 43,
   "metadata": {},
   "outputs": [],
   "source": [
    "model_ft = models.resnet18(pretrained=True)"
   ]
  },
  {
   "cell_type": "code",
   "execution_count": 45,
   "metadata": {},
   "outputs": [],
   "source": [
    "num_dfts = model_ft.fc.in_features\n",
    "model_ft.fc = nn.Linear(num_dfts, 2)\n",
    "\n",
    "if torch.cuda.is_available():\n",
    "    model_ft = model_ft.cuda()"
   ]
  },
  {
   "cell_type": "code",
   "execution_count": 47,
   "metadata": {},
   "outputs": [
    {
     "data": {
      "text/plain": [
       "ResNet(\n",
       "  (conv1): Conv2d(3, 64, kernel_size=(7, 7), stride=(2, 2), padding=(3, 3), bias=False)\n",
       "  (bn1): BatchNorm2d(64, eps=1e-05, momentum=0.1, affine=True, track_running_stats=True)\n",
       "  (relu): ReLU(inplace)\n",
       "  (maxpool): MaxPool2d(kernel_size=3, stride=2, padding=1, dilation=1, ceil_mode=False)\n",
       "  (layer1): Sequential(\n",
       "    (0): BasicBlock(\n",
       "      (conv1): Conv2d(64, 64, kernel_size=(3, 3), stride=(1, 1), padding=(1, 1), bias=False)\n",
       "      (bn1): BatchNorm2d(64, eps=1e-05, momentum=0.1, affine=True, track_running_stats=True)\n",
       "      (relu): ReLU(inplace)\n",
       "      (conv2): Conv2d(64, 64, kernel_size=(3, 3), stride=(1, 1), padding=(1, 1), bias=False)\n",
       "      (bn2): BatchNorm2d(64, eps=1e-05, momentum=0.1, affine=True, track_running_stats=True)\n",
       "    )\n",
       "    (1): BasicBlock(\n",
       "      (conv1): Conv2d(64, 64, kernel_size=(3, 3), stride=(1, 1), padding=(1, 1), bias=False)\n",
       "      (bn1): BatchNorm2d(64, eps=1e-05, momentum=0.1, affine=True, track_running_stats=True)\n",
       "      (relu): ReLU(inplace)\n",
       "      (conv2): Conv2d(64, 64, kernel_size=(3, 3), stride=(1, 1), padding=(1, 1), bias=False)\n",
       "      (bn2): BatchNorm2d(64, eps=1e-05, momentum=0.1, affine=True, track_running_stats=True)\n",
       "    )\n",
       "  )\n",
       "  (layer2): Sequential(\n",
       "    (0): BasicBlock(\n",
       "      (conv1): Conv2d(64, 128, kernel_size=(3, 3), stride=(2, 2), padding=(1, 1), bias=False)\n",
       "      (bn1): BatchNorm2d(128, eps=1e-05, momentum=0.1, affine=True, track_running_stats=True)\n",
       "      (relu): ReLU(inplace)\n",
       "      (conv2): Conv2d(128, 128, kernel_size=(3, 3), stride=(1, 1), padding=(1, 1), bias=False)\n",
       "      (bn2): BatchNorm2d(128, eps=1e-05, momentum=0.1, affine=True, track_running_stats=True)\n",
       "      (downsample): Sequential(\n",
       "        (0): Conv2d(64, 128, kernel_size=(1, 1), stride=(2, 2), bias=False)\n",
       "        (1): BatchNorm2d(128, eps=1e-05, momentum=0.1, affine=True, track_running_stats=True)\n",
       "      )\n",
       "    )\n",
       "    (1): BasicBlock(\n",
       "      (conv1): Conv2d(128, 128, kernel_size=(3, 3), stride=(1, 1), padding=(1, 1), bias=False)\n",
       "      (bn1): BatchNorm2d(128, eps=1e-05, momentum=0.1, affine=True, track_running_stats=True)\n",
       "      (relu): ReLU(inplace)\n",
       "      (conv2): Conv2d(128, 128, kernel_size=(3, 3), stride=(1, 1), padding=(1, 1), bias=False)\n",
       "      (bn2): BatchNorm2d(128, eps=1e-05, momentum=0.1, affine=True, track_running_stats=True)\n",
       "    )\n",
       "  )\n",
       "  (layer3): Sequential(\n",
       "    (0): BasicBlock(\n",
       "      (conv1): Conv2d(128, 256, kernel_size=(3, 3), stride=(2, 2), padding=(1, 1), bias=False)\n",
       "      (bn1): BatchNorm2d(256, eps=1e-05, momentum=0.1, affine=True, track_running_stats=True)\n",
       "      (relu): ReLU(inplace)\n",
       "      (conv2): Conv2d(256, 256, kernel_size=(3, 3), stride=(1, 1), padding=(1, 1), bias=False)\n",
       "      (bn2): BatchNorm2d(256, eps=1e-05, momentum=0.1, affine=True, track_running_stats=True)\n",
       "      (downsample): Sequential(\n",
       "        (0): Conv2d(128, 256, kernel_size=(1, 1), stride=(2, 2), bias=False)\n",
       "        (1): BatchNorm2d(256, eps=1e-05, momentum=0.1, affine=True, track_running_stats=True)\n",
       "      )\n",
       "    )\n",
       "    (1): BasicBlock(\n",
       "      (conv1): Conv2d(256, 256, kernel_size=(3, 3), stride=(1, 1), padding=(1, 1), bias=False)\n",
       "      (bn1): BatchNorm2d(256, eps=1e-05, momentum=0.1, affine=True, track_running_stats=True)\n",
       "      (relu): ReLU(inplace)\n",
       "      (conv2): Conv2d(256, 256, kernel_size=(3, 3), stride=(1, 1), padding=(1, 1), bias=False)\n",
       "      (bn2): BatchNorm2d(256, eps=1e-05, momentum=0.1, affine=True, track_running_stats=True)\n",
       "    )\n",
       "  )\n",
       "  (layer4): Sequential(\n",
       "    (0): BasicBlock(\n",
       "      (conv1): Conv2d(256, 512, kernel_size=(3, 3), stride=(2, 2), padding=(1, 1), bias=False)\n",
       "      (bn1): BatchNorm2d(512, eps=1e-05, momentum=0.1, affine=True, track_running_stats=True)\n",
       "      (relu): ReLU(inplace)\n",
       "      (conv2): Conv2d(512, 512, kernel_size=(3, 3), stride=(1, 1), padding=(1, 1), bias=False)\n",
       "      (bn2): BatchNorm2d(512, eps=1e-05, momentum=0.1, affine=True, track_running_stats=True)\n",
       "      (downsample): Sequential(\n",
       "        (0): Conv2d(256, 512, kernel_size=(1, 1), stride=(2, 2), bias=False)\n",
       "        (1): BatchNorm2d(512, eps=1e-05, momentum=0.1, affine=True, track_running_stats=True)\n",
       "      )\n",
       "    )\n",
       "    (1): BasicBlock(\n",
       "      (conv1): Conv2d(512, 512, kernel_size=(3, 3), stride=(1, 1), padding=(1, 1), bias=False)\n",
       "      (bn1): BatchNorm2d(512, eps=1e-05, momentum=0.1, affine=True, track_running_stats=True)\n",
       "      (relu): ReLU(inplace)\n",
       "      (conv2): Conv2d(512, 512, kernel_size=(3, 3), stride=(1, 1), padding=(1, 1), bias=False)\n",
       "      (bn2): BatchNorm2d(512, eps=1e-05, momentum=0.1, affine=True, track_running_stats=True)\n",
       "    )\n",
       "  )\n",
       "  (avgpool): AvgPool2d(kernel_size=7, stride=1, padding=0)\n",
       "  (fc): Linear(in_features=512, out_features=2, bias=True)\n",
       ")"
      ]
     },
     "execution_count": 47,
     "metadata": {},
     "output_type": "execute_result"
    }
   ],
   "source": [
    "model_ft"
   ]
  },
  {
   "cell_type": "code",
   "execution_count": 49,
   "metadata": {},
   "outputs": [],
   "source": [
    "learning_rate = 0.001\n",
    "criterion = nn.CrossEntropyLoss()\n",
    "optimizer_ft = optim.SGD(model_ft.parameters(), lr=learning_rate, momentum=0.9)\n",
    "exp_lr_scheduler = optim.lr_scheduler.StepLR(optimizer_ft, step_size=7, gamma=0.1)"
   ]
  },
  {
   "cell_type": "code",
   "execution_count": 62,
   "metadata": {},
   "outputs": [],
   "source": [
    "def train_model(model, criterion, optimizer, scheduler, num_epochs=5):\n",
    "    since = time.time()\n",
    "\n",
    "    best_model_wts = model.state_dict()\n",
    "    best_acc = 0.0\n",
    "\n",
    "    for epoch in range(num_epochs):\n",
    "        print('Epoch {}/{}'.format(epoch, num_epochs - 1))\n",
    "        print('-' * 10)\n",
    "\n",
    "        # Each epoch has a training and validation phase\n",
    "        for phase in ['train', 'valid']:\n",
    "            if phase == 'train':\n",
    "                scheduler.step()\n",
    "                model.train(True)  # Set model to training mode\n",
    "            else:\n",
    "                model.train(False)  # Set model to evaluate mode\n",
    "\n",
    "            running_loss = 0.0\n",
    "            running_corrects = 0\n",
    "\n",
    "            # Iterate over data.\n",
    "            for data in dataloaders[phase]:\n",
    "                # get the inputs\n",
    "                inputs, labels = data\n",
    "\n",
    "                # wrap them in Variable\n",
    "                if torch.cuda.is_available():\n",
    "                    inputs = Variable(inputs.cuda())\n",
    "                    labels = Variable(labels.cuda())\n",
    "                else:\n",
    "                    inputs, labels = Variable(inputs), Variable(labels)\n",
    "\n",
    "                # zero the parameter gradients\n",
    "                optimizer.zero_grad()\n",
    "                \n",
    "                # forward\n",
    "                outputs = model(inputs)\n",
    "                _, preds = torch.max(outputs.data, 1)\n",
    "                loss = criterion(outputs, labels)\n",
    "\n",
    "                # backward + optimize only if in training phase\n",
    "                if phase == 'train':\n",
    "                    loss.backward()\n",
    "                    optimizer.step()\n",
    "\n",
    "                # statistics\n",
    "                running_loss += loss.data[0]\n",
    "                running_corrects += torch.sum(preds == labels.data)\n",
    "\n",
    "            epoch_loss = running_loss / dataset_sizes[phase]\n",
    "            epoch_acc = running_corrects / dataset_sizes[phase]\n",
    "\n",
    "            print('{} Loss: {:.4f} Acc: {:.4f}'.format(\n",
    "                phase, epoch_loss, epoch_acc))\n",
    "\n",
    "            # deep copy the model\n",
    "            if phase == 'valid' and epoch_acc > best_acc:\n",
    "                best_acc = epoch_acc\n",
    "                best_model_wts = model.state_dict()\n",
    "\n",
    "        print()\n",
    "\n",
    "    time_elapsed = time.time() - since\n",
    "    print('Training complete in {:.0f}m {:.0f}s'.format(\n",
    "        time_elapsed // 60, time_elapsed % 60))\n",
    "    print('Best val Acc: {:4f}'.format(best_acc))\n",
    "\n",
    "    # load best model weights\n",
    "    model.load_state_dict(best_model_wts)\n",
    "    return model"
   ]
  },
  {
   "cell_type": "code",
   "execution_count": 1,
   "metadata": {},
   "outputs": [],
   "source": [
    "def train_model(model, criterion, optimizer, scheduler, num_epochs=25):\n",
    "    start_time = time.time()\n",
    "    \n",
    "    best_model_wts = model.state_dict()\n",
    "    best_acc = 0.0\n",
    "    \n",
    "    for epoch in range(num_epochs):\n",
    "        print('Epoch {}/{}'.format(epoch, num_epochs - 1))\n",
    "        print('-' * 10)\n",
    "        \n",
    "        for phase in ['train', 'valid']:\n",
    "            if phase == 'train':\n",
    "                scheduler.step()\n",
    "                model.train(True)\n",
    "            else:\n",
    "                model.train(False)\n",
    "                \n",
    "            running_loss = 0.0\n",
    "            running_corrects = 0\n",
    "            \n",
    "            for data in dataloaders[phase]:\n",
    "                inputs, labels = data\n",
    "                \n",
    "                if torch.cuda.is_available():\n",
    "                    inputs = Variable(inputs.cuda())\n",
    "                    labels = Variable(labels.cuda())\n",
    "                else:\n",
    "                    inputs, labels = Variable(inputs), Variable(labels)\n",
    "                \n",
    "                optimizer.zero_grad()\n",
    "                \n",
    "                outputs = model(inputs)\n",
    "                _, preds = torch.max(outputs.data, 1)\n",
    "                loss = criterion(outputs, labels)\n",
    "                \n",
    "                if phase == 'train':\n",
    "                    loss.backward()\n",
    "                    optimizer.step()\n",
    "                \n",
    "                running_loss += loss.item()\n",
    "                running_corrects += torch.sum(preds == labels.data)\n",
    "            \n",
    "            epoch_loss = running_loss / dataset_sizes[phase]\n",
    "            epoch_acc = running_corrects / dataset_sizes[phase]\n",
    "            \n",
    "            print('{} Loss: {:.4f} Acc: {:.4f}'.format(phase, epoch_loss, epoch_acc))\n",
    "            \n",
    "            if phase == 'valid' and epoch_acc > best_acc:\n",
    "                best_acc = epoch_acc\n",
    "                best_model_wts = model.state_dict()\n",
    "                \n",
    "        print()\n",
    "        \n",
    "    time_elapsed = time.time() - start_time\n",
    "    print('Training complete in (:.0f)m {:.0f}s'.format(\n",
    "        time_elapsed // 60, time_elapsed % 60))\n",
    "    print('Best val Acc: {:.4f}'.format(best_acc))\n",
    "    \n",
    "    model.load_state_dict(best_model_wts)\n",
    "    return model"
   ]
  },
  {
   "cell_type": "code",
   "execution_count": null,
   "metadata": {},
   "outputs": [],
   "source": [
    "md = train_model(model_ft, criterion, optimizer_ft, exp_lr_scheduler, num_epochs=5)"
   ]
  },
  {
   "cell_type": "code",
   "execution_count": null,
   "metadata": {},
   "outputs": [],
   "source": []
  }
 ],
 "metadata": {
  "kernelspec": {
   "display_name": "Python 3",
   "language": "python",
   "name": "python3"
  },
  "language_info": {
   "codemirror_mode": {
    "name": "ipython",
    "version": 3
   },
   "file_extension": ".py",
   "mimetype": "text/x-python",
   "name": "python",
   "nbconvert_exporter": "python",
   "pygments_lexer": "ipython3",
   "version": "3.6.6"
  }
 },
 "nbformat": 4,
 "nbformat_minor": 2
}
